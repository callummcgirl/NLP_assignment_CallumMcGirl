{
  "cells": [
    {
      "cell_type": "markdown",
      "metadata": {
        "id": "view-in-github",
        "colab_type": "text"
      },
      "source": [
        "<a href=\"https://colab.research.google.com/github/callummcgirl/NLP_assignment_CallumMcGirl/blob/main/NLP_assignment_CallumMcGirl.ipynb\" target=\"_parent\"><img src=\"https://colab.research.google.com/assets/colab-badge.svg\" alt=\"Open In Colab\"/></a>"
      ]
    },
    {
      "cell_type": "markdown",
      "metadata": {
        "id": "c_Z-i5i_PcHf"
      },
      "source": []
    },
    {
      "cell_type": "markdown",
      "metadata": {
        "id": "yV9WW7voPcHj"
      },
      "source": [
        "# Natural Language Processing </a>\n",
        "\n",
        "## Assignment: K Nearest Neighbors Model for the IMDB Movie Review Dataset\n",
        "\n",
        "For the final project, build a K Nearest Neighbors model to predict the sentiment (positive or negative) of movie reviews. The dataset is originally hosted here: http://ai.stanford.edu/~amaas/data/sentiment/\n",
        "\n",
        "Use the notebooks from the class and implement the model, train and test with the corresponding datasets.\n",
        "\n",
        "You can follow these steps:\n",
        "1. Read training-test data (Given)\n",
        "2. Train a KNN classifier (Implement)\n",
        "3. Make predictions on your test dataset (Implement)\n",
        "\n",
        "__You can use the KNN Classifier from here: https://scikit-learn.org/stable/modules/generated/sklearn.neighbors.KNeighborsClassifier.html__"
      ]
    },
    {
      "cell_type": "markdown",
      "metadata": {
        "id": "Qf9gzc3NPcHm"
      },
      "source": [
        "## 1. Reading the dataset\n",
        "\n",
        "We will use the __pandas__ library to read our dataset."
      ]
    },
    {
      "cell_type": "markdown",
      "metadata": {
        "id": "6R1S95FYPcHm"
      },
      "source": [
        "#### __Training data:__\n",
        "Let's read our training data. Here, we have the text and label fields. Labe is 1 for positive reviews and 0 for negative reviews."
      ]
    },
    {
      "cell_type": "code",
      "execution_count": null,
      "metadata": {
        "colab": {
          "base_uri": "https://localhost:8080/",
          "height": 363
        },
        "id": "imYuQ2EcPcHn",
        "outputId": "8cfa7e42-a001-43f9-b663-2c5e7f357648"
      },
      "outputs": [
        {
          "output_type": "execute_result",
          "data": {
            "text/plain": [
              "                                                text  label\n",
              "0  This movie makes me want to throw up every tim...      0\n",
              "1  Listening to the director's commentary confirm...      0\n",
              "2  One of the best Tarzan films is also one of it...      1\n",
              "3  Valentine is now one of my favorite slasher fi...      1\n",
              "4  No mention if Ann Rivers Siddons adapted the m...      0\n",
              "5  Several years ago the Navy kept a studied dist...      1\n",
              "6  This is a masterpiece footage in B/W 35mm film...      1\n",
              "7  Such a long awaited movie.. But it has disappo...      0\n",
              "8  When two writers make a screenplay of a horror...      1\n",
              "9  Make no mistake, Maureen O'Sullivan is easily ...      1"
            ],
            "text/html": [
              "\n",
              "  <div id=\"df-523025bc-b4a8-44a1-9857-831b190ac5b2\" class=\"colab-df-container\">\n",
              "    <div>\n",
              "<style scoped>\n",
              "    .dataframe tbody tr th:only-of-type {\n",
              "        vertical-align: middle;\n",
              "    }\n",
              "\n",
              "    .dataframe tbody tr th {\n",
              "        vertical-align: top;\n",
              "    }\n",
              "\n",
              "    .dataframe thead th {\n",
              "        text-align: right;\n",
              "    }\n",
              "</style>\n",
              "<table border=\"1\" class=\"dataframe\">\n",
              "  <thead>\n",
              "    <tr style=\"text-align: right;\">\n",
              "      <th></th>\n",
              "      <th>text</th>\n",
              "      <th>label</th>\n",
              "    </tr>\n",
              "  </thead>\n",
              "  <tbody>\n",
              "    <tr>\n",
              "      <th>0</th>\n",
              "      <td>This movie makes me want to throw up every tim...</td>\n",
              "      <td>0</td>\n",
              "    </tr>\n",
              "    <tr>\n",
              "      <th>1</th>\n",
              "      <td>Listening to the director's commentary confirm...</td>\n",
              "      <td>0</td>\n",
              "    </tr>\n",
              "    <tr>\n",
              "      <th>2</th>\n",
              "      <td>One of the best Tarzan films is also one of it...</td>\n",
              "      <td>1</td>\n",
              "    </tr>\n",
              "    <tr>\n",
              "      <th>3</th>\n",
              "      <td>Valentine is now one of my favorite slasher fi...</td>\n",
              "      <td>1</td>\n",
              "    </tr>\n",
              "    <tr>\n",
              "      <th>4</th>\n",
              "      <td>No mention if Ann Rivers Siddons adapted the m...</td>\n",
              "      <td>0</td>\n",
              "    </tr>\n",
              "    <tr>\n",
              "      <th>5</th>\n",
              "      <td>Several years ago the Navy kept a studied dist...</td>\n",
              "      <td>1</td>\n",
              "    </tr>\n",
              "    <tr>\n",
              "      <th>6</th>\n",
              "      <td>This is a masterpiece footage in B/W 35mm film...</td>\n",
              "      <td>1</td>\n",
              "    </tr>\n",
              "    <tr>\n",
              "      <th>7</th>\n",
              "      <td>Such a long awaited movie.. But it has disappo...</td>\n",
              "      <td>0</td>\n",
              "    </tr>\n",
              "    <tr>\n",
              "      <th>8</th>\n",
              "      <td>When two writers make a screenplay of a horror...</td>\n",
              "      <td>1</td>\n",
              "    </tr>\n",
              "    <tr>\n",
              "      <th>9</th>\n",
              "      <td>Make no mistake, Maureen O'Sullivan is easily ...</td>\n",
              "      <td>1</td>\n",
              "    </tr>\n",
              "  </tbody>\n",
              "</table>\n",
              "</div>\n",
              "    <div class=\"colab-df-buttons\">\n",
              "\n",
              "  <div class=\"colab-df-container\">\n",
              "    <button class=\"colab-df-convert\" onclick=\"convertToInteractive('df-523025bc-b4a8-44a1-9857-831b190ac5b2')\"\n",
              "            title=\"Convert this dataframe to an interactive table.\"\n",
              "            style=\"display:none;\">\n",
              "\n",
              "  <svg xmlns=\"http://www.w3.org/2000/svg\" height=\"24px\" viewBox=\"0 -960 960 960\">\n",
              "    <path d=\"M120-120v-720h720v720H120Zm60-500h600v-160H180v160Zm220 220h160v-160H400v160Zm0 220h160v-160H400v160ZM180-400h160v-160H180v160Zm440 0h160v-160H620v160ZM180-180h160v-160H180v160Zm440 0h160v-160H620v160Z\"/>\n",
              "  </svg>\n",
              "    </button>\n",
              "\n",
              "  <style>\n",
              "    .colab-df-container {\n",
              "      display:flex;\n",
              "      gap: 12px;\n",
              "    }\n",
              "\n",
              "    .colab-df-convert {\n",
              "      background-color: #E8F0FE;\n",
              "      border: none;\n",
              "      border-radius: 50%;\n",
              "      cursor: pointer;\n",
              "      display: none;\n",
              "      fill: #1967D2;\n",
              "      height: 32px;\n",
              "      padding: 0 0 0 0;\n",
              "      width: 32px;\n",
              "    }\n",
              "\n",
              "    .colab-df-convert:hover {\n",
              "      background-color: #E2EBFA;\n",
              "      box-shadow: 0px 1px 2px rgba(60, 64, 67, 0.3), 0px 1px 3px 1px rgba(60, 64, 67, 0.15);\n",
              "      fill: #174EA6;\n",
              "    }\n",
              "\n",
              "    .colab-df-buttons div {\n",
              "      margin-bottom: 4px;\n",
              "    }\n",
              "\n",
              "    [theme=dark] .colab-df-convert {\n",
              "      background-color: #3B4455;\n",
              "      fill: #D2E3FC;\n",
              "    }\n",
              "\n",
              "    [theme=dark] .colab-df-convert:hover {\n",
              "      background-color: #434B5C;\n",
              "      box-shadow: 0px 1px 3px 1px rgba(0, 0, 0, 0.15);\n",
              "      filter: drop-shadow(0px 1px 2px rgba(0, 0, 0, 0.3));\n",
              "      fill: #FFFFFF;\n",
              "    }\n",
              "  </style>\n",
              "\n",
              "    <script>\n",
              "      const buttonEl =\n",
              "        document.querySelector('#df-523025bc-b4a8-44a1-9857-831b190ac5b2 button.colab-df-convert');\n",
              "      buttonEl.style.display =\n",
              "        google.colab.kernel.accessAllowed ? 'block' : 'none';\n",
              "\n",
              "      async function convertToInteractive(key) {\n",
              "        const element = document.querySelector('#df-523025bc-b4a8-44a1-9857-831b190ac5b2');\n",
              "        const dataTable =\n",
              "          await google.colab.kernel.invokeFunction('convertToInteractive',\n",
              "                                                    [key], {});\n",
              "        if (!dataTable) return;\n",
              "\n",
              "        const docLinkHtml = 'Like what you see? Visit the ' +\n",
              "          '<a target=\"_blank\" href=https://colab.research.google.com/notebooks/data_table.ipynb>data table notebook</a>'\n",
              "          + ' to learn more about interactive tables.';\n",
              "        element.innerHTML = '';\n",
              "        dataTable['output_type'] = 'display_data';\n",
              "        await google.colab.output.renderOutput(dataTable, element);\n",
              "        const docLink = document.createElement('div');\n",
              "        docLink.innerHTML = docLinkHtml;\n",
              "        element.appendChild(docLink);\n",
              "      }\n",
              "    </script>\n",
              "  </div>\n",
              "\n",
              "\n",
              "<div id=\"df-2b799bd0-a88e-40ab-9f51-f13bd2c4c51f\">\n",
              "  <button class=\"colab-df-quickchart\" onclick=\"quickchart('df-2b799bd0-a88e-40ab-9f51-f13bd2c4c51f')\"\n",
              "            title=\"Suggest charts.\"\n",
              "            style=\"display:none;\">\n",
              "\n",
              "<svg xmlns=\"http://www.w3.org/2000/svg\" height=\"24px\"viewBox=\"0 0 24 24\"\n",
              "     width=\"24px\">\n",
              "    <g>\n",
              "        <path d=\"M19 3H5c-1.1 0-2 .9-2 2v14c0 1.1.9 2 2 2h14c1.1 0 2-.9 2-2V5c0-1.1-.9-2-2-2zM9 17H7v-7h2v7zm4 0h-2V7h2v10zm4 0h-2v-4h2v4z\"/>\n",
              "    </g>\n",
              "</svg>\n",
              "  </button>\n",
              "\n",
              "<style>\n",
              "  .colab-df-quickchart {\n",
              "      --bg-color: #E8F0FE;\n",
              "      --fill-color: #1967D2;\n",
              "      --hover-bg-color: #E2EBFA;\n",
              "      --hover-fill-color: #174EA6;\n",
              "      --disabled-fill-color: #AAA;\n",
              "      --disabled-bg-color: #DDD;\n",
              "  }\n",
              "\n",
              "  [theme=dark] .colab-df-quickchart {\n",
              "      --bg-color: #3B4455;\n",
              "      --fill-color: #D2E3FC;\n",
              "      --hover-bg-color: #434B5C;\n",
              "      --hover-fill-color: #FFFFFF;\n",
              "      --disabled-bg-color: #3B4455;\n",
              "      --disabled-fill-color: #666;\n",
              "  }\n",
              "\n",
              "  .colab-df-quickchart {\n",
              "    background-color: var(--bg-color);\n",
              "    border: none;\n",
              "    border-radius: 50%;\n",
              "    cursor: pointer;\n",
              "    display: none;\n",
              "    fill: var(--fill-color);\n",
              "    height: 32px;\n",
              "    padding: 0;\n",
              "    width: 32px;\n",
              "  }\n",
              "\n",
              "  .colab-df-quickchart:hover {\n",
              "    background-color: var(--hover-bg-color);\n",
              "    box-shadow: 0 1px 2px rgba(60, 64, 67, 0.3), 0 1px 3px 1px rgba(60, 64, 67, 0.15);\n",
              "    fill: var(--button-hover-fill-color);\n",
              "  }\n",
              "\n",
              "  .colab-df-quickchart-complete:disabled,\n",
              "  .colab-df-quickchart-complete:disabled:hover {\n",
              "    background-color: var(--disabled-bg-color);\n",
              "    fill: var(--disabled-fill-color);\n",
              "    box-shadow: none;\n",
              "  }\n",
              "\n",
              "  .colab-df-spinner {\n",
              "    border: 2px solid var(--fill-color);\n",
              "    border-color: transparent;\n",
              "    border-bottom-color: var(--fill-color);\n",
              "    animation:\n",
              "      spin 1s steps(1) infinite;\n",
              "  }\n",
              "\n",
              "  @keyframes spin {\n",
              "    0% {\n",
              "      border-color: transparent;\n",
              "      border-bottom-color: var(--fill-color);\n",
              "      border-left-color: var(--fill-color);\n",
              "    }\n",
              "    20% {\n",
              "      border-color: transparent;\n",
              "      border-left-color: var(--fill-color);\n",
              "      border-top-color: var(--fill-color);\n",
              "    }\n",
              "    30% {\n",
              "      border-color: transparent;\n",
              "      border-left-color: var(--fill-color);\n",
              "      border-top-color: var(--fill-color);\n",
              "      border-right-color: var(--fill-color);\n",
              "    }\n",
              "    40% {\n",
              "      border-color: transparent;\n",
              "      border-right-color: var(--fill-color);\n",
              "      border-top-color: var(--fill-color);\n",
              "    }\n",
              "    60% {\n",
              "      border-color: transparent;\n",
              "      border-right-color: var(--fill-color);\n",
              "    }\n",
              "    80% {\n",
              "      border-color: transparent;\n",
              "      border-right-color: var(--fill-color);\n",
              "      border-bottom-color: var(--fill-color);\n",
              "    }\n",
              "    90% {\n",
              "      border-color: transparent;\n",
              "      border-bottom-color: var(--fill-color);\n",
              "    }\n",
              "  }\n",
              "</style>\n",
              "\n",
              "  <script>\n",
              "    async function quickchart(key) {\n",
              "      const quickchartButtonEl =\n",
              "        document.querySelector('#' + key + ' button');\n",
              "      quickchartButtonEl.disabled = true;  // To prevent multiple clicks.\n",
              "      quickchartButtonEl.classList.add('colab-df-spinner');\n",
              "      try {\n",
              "        const charts = await google.colab.kernel.invokeFunction(\n",
              "            'suggestCharts', [key], {});\n",
              "      } catch (error) {\n",
              "        console.error('Error during call to suggestCharts:', error);\n",
              "      }\n",
              "      quickchartButtonEl.classList.remove('colab-df-spinner');\n",
              "      quickchartButtonEl.classList.add('colab-df-quickchart-complete');\n",
              "    }\n",
              "    (() => {\n",
              "      let quickchartButtonEl =\n",
              "        document.querySelector('#df-2b799bd0-a88e-40ab-9f51-f13bd2c4c51f button');\n",
              "      quickchartButtonEl.style.display =\n",
              "        google.colab.kernel.accessAllowed ? 'block' : 'none';\n",
              "    })();\n",
              "  </script>\n",
              "</div>\n",
              "    </div>\n",
              "  </div>\n"
            ]
          },
          "metadata": {},
          "execution_count": 1
        }
      ],
      "source": [
        "import pandas as pd\n",
        "\n",
        "train_df = pd.read_csv('https://raw.githubusercontent.com/aws-samples/aws-machine-learning-university-accelerated-nlp/master/data/final_project/imdb_train.csv', header=0)\n",
        "train_df.head(10)"
      ]
    },
    {
      "cell_type": "markdown",
      "metadata": {
        "id": "h5c7uQRYPcHn"
      },
      "source": [
        "#### __Test data:__"
      ]
    },
    {
      "cell_type": "code",
      "execution_count": null,
      "metadata": {
        "colab": {
          "base_uri": "https://localhost:8080/",
          "height": 206
        },
        "id": "DiBpa04fPcHo",
        "outputId": "08d1088c-d0d7-40ba-a798-6e817747f09b"
      },
      "outputs": [
        {
          "output_type": "execute_result",
          "data": {
            "text/plain": [
              "                                                text  label\n",
              "0  What I hoped for (or even expected) was the we...      0\n",
              "1  Garden State must rate amongst the most contri...      0\n",
              "2  There is a lot wrong with this film. I will no...      1\n",
              "3  To qualify my use of \"realistic\" in the summar...      1\n",
              "4  Dirty War is absolutely one of the best politi...      1"
            ],
            "text/html": [
              "\n",
              "  <div id=\"df-b3514397-b49c-41f6-aba7-a40e028523ff\" class=\"colab-df-container\">\n",
              "    <div>\n",
              "<style scoped>\n",
              "    .dataframe tbody tr th:only-of-type {\n",
              "        vertical-align: middle;\n",
              "    }\n",
              "\n",
              "    .dataframe tbody tr th {\n",
              "        vertical-align: top;\n",
              "    }\n",
              "\n",
              "    .dataframe thead th {\n",
              "        text-align: right;\n",
              "    }\n",
              "</style>\n",
              "<table border=\"1\" class=\"dataframe\">\n",
              "  <thead>\n",
              "    <tr style=\"text-align: right;\">\n",
              "      <th></th>\n",
              "      <th>text</th>\n",
              "      <th>label</th>\n",
              "    </tr>\n",
              "  </thead>\n",
              "  <tbody>\n",
              "    <tr>\n",
              "      <th>0</th>\n",
              "      <td>What I hoped for (or even expected) was the we...</td>\n",
              "      <td>0</td>\n",
              "    </tr>\n",
              "    <tr>\n",
              "      <th>1</th>\n",
              "      <td>Garden State must rate amongst the most contri...</td>\n",
              "      <td>0</td>\n",
              "    </tr>\n",
              "    <tr>\n",
              "      <th>2</th>\n",
              "      <td>There is a lot wrong with this film. I will no...</td>\n",
              "      <td>1</td>\n",
              "    </tr>\n",
              "    <tr>\n",
              "      <th>3</th>\n",
              "      <td>To qualify my use of \"realistic\" in the summar...</td>\n",
              "      <td>1</td>\n",
              "    </tr>\n",
              "    <tr>\n",
              "      <th>4</th>\n",
              "      <td>Dirty War is absolutely one of the best politi...</td>\n",
              "      <td>1</td>\n",
              "    </tr>\n",
              "  </tbody>\n",
              "</table>\n",
              "</div>\n",
              "    <div class=\"colab-df-buttons\">\n",
              "\n",
              "  <div class=\"colab-df-container\">\n",
              "    <button class=\"colab-df-convert\" onclick=\"convertToInteractive('df-b3514397-b49c-41f6-aba7-a40e028523ff')\"\n",
              "            title=\"Convert this dataframe to an interactive table.\"\n",
              "            style=\"display:none;\">\n",
              "\n",
              "  <svg xmlns=\"http://www.w3.org/2000/svg\" height=\"24px\" viewBox=\"0 -960 960 960\">\n",
              "    <path d=\"M120-120v-720h720v720H120Zm60-500h600v-160H180v160Zm220 220h160v-160H400v160Zm0 220h160v-160H400v160ZM180-400h160v-160H180v160Zm440 0h160v-160H620v160ZM180-180h160v-160H180v160Zm440 0h160v-160H620v160Z\"/>\n",
              "  </svg>\n",
              "    </button>\n",
              "\n",
              "  <style>\n",
              "    .colab-df-container {\n",
              "      display:flex;\n",
              "      gap: 12px;\n",
              "    }\n",
              "\n",
              "    .colab-df-convert {\n",
              "      background-color: #E8F0FE;\n",
              "      border: none;\n",
              "      border-radius: 50%;\n",
              "      cursor: pointer;\n",
              "      display: none;\n",
              "      fill: #1967D2;\n",
              "      height: 32px;\n",
              "      padding: 0 0 0 0;\n",
              "      width: 32px;\n",
              "    }\n",
              "\n",
              "    .colab-df-convert:hover {\n",
              "      background-color: #E2EBFA;\n",
              "      box-shadow: 0px 1px 2px rgba(60, 64, 67, 0.3), 0px 1px 3px 1px rgba(60, 64, 67, 0.15);\n",
              "      fill: #174EA6;\n",
              "    }\n",
              "\n",
              "    .colab-df-buttons div {\n",
              "      margin-bottom: 4px;\n",
              "    }\n",
              "\n",
              "    [theme=dark] .colab-df-convert {\n",
              "      background-color: #3B4455;\n",
              "      fill: #D2E3FC;\n",
              "    }\n",
              "\n",
              "    [theme=dark] .colab-df-convert:hover {\n",
              "      background-color: #434B5C;\n",
              "      box-shadow: 0px 1px 3px 1px rgba(0, 0, 0, 0.15);\n",
              "      filter: drop-shadow(0px 1px 2px rgba(0, 0, 0, 0.3));\n",
              "      fill: #FFFFFF;\n",
              "    }\n",
              "  </style>\n",
              "\n",
              "    <script>\n",
              "      const buttonEl =\n",
              "        document.querySelector('#df-b3514397-b49c-41f6-aba7-a40e028523ff button.colab-df-convert');\n",
              "      buttonEl.style.display =\n",
              "        google.colab.kernel.accessAllowed ? 'block' : 'none';\n",
              "\n",
              "      async function convertToInteractive(key) {\n",
              "        const element = document.querySelector('#df-b3514397-b49c-41f6-aba7-a40e028523ff');\n",
              "        const dataTable =\n",
              "          await google.colab.kernel.invokeFunction('convertToInteractive',\n",
              "                                                    [key], {});\n",
              "        if (!dataTable) return;\n",
              "\n",
              "        const docLinkHtml = 'Like what you see? Visit the ' +\n",
              "          '<a target=\"_blank\" href=https://colab.research.google.com/notebooks/data_table.ipynb>data table notebook</a>'\n",
              "          + ' to learn more about interactive tables.';\n",
              "        element.innerHTML = '';\n",
              "        dataTable['output_type'] = 'display_data';\n",
              "        await google.colab.output.renderOutput(dataTable, element);\n",
              "        const docLink = document.createElement('div');\n",
              "        docLink.innerHTML = docLinkHtml;\n",
              "        element.appendChild(docLink);\n",
              "      }\n",
              "    </script>\n",
              "  </div>\n",
              "\n",
              "\n",
              "<div id=\"df-7dc5ba23-97cb-4003-be57-a532d01221fb\">\n",
              "  <button class=\"colab-df-quickchart\" onclick=\"quickchart('df-7dc5ba23-97cb-4003-be57-a532d01221fb')\"\n",
              "            title=\"Suggest charts.\"\n",
              "            style=\"display:none;\">\n",
              "\n",
              "<svg xmlns=\"http://www.w3.org/2000/svg\" height=\"24px\"viewBox=\"0 0 24 24\"\n",
              "     width=\"24px\">\n",
              "    <g>\n",
              "        <path d=\"M19 3H5c-1.1 0-2 .9-2 2v14c0 1.1.9 2 2 2h14c1.1 0 2-.9 2-2V5c0-1.1-.9-2-2-2zM9 17H7v-7h2v7zm4 0h-2V7h2v10zm4 0h-2v-4h2v4z\"/>\n",
              "    </g>\n",
              "</svg>\n",
              "  </button>\n",
              "\n",
              "<style>\n",
              "  .colab-df-quickchart {\n",
              "      --bg-color: #E8F0FE;\n",
              "      --fill-color: #1967D2;\n",
              "      --hover-bg-color: #E2EBFA;\n",
              "      --hover-fill-color: #174EA6;\n",
              "      --disabled-fill-color: #AAA;\n",
              "      --disabled-bg-color: #DDD;\n",
              "  }\n",
              "\n",
              "  [theme=dark] .colab-df-quickchart {\n",
              "      --bg-color: #3B4455;\n",
              "      --fill-color: #D2E3FC;\n",
              "      --hover-bg-color: #434B5C;\n",
              "      --hover-fill-color: #FFFFFF;\n",
              "      --disabled-bg-color: #3B4455;\n",
              "      --disabled-fill-color: #666;\n",
              "  }\n",
              "\n",
              "  .colab-df-quickchart {\n",
              "    background-color: var(--bg-color);\n",
              "    border: none;\n",
              "    border-radius: 50%;\n",
              "    cursor: pointer;\n",
              "    display: none;\n",
              "    fill: var(--fill-color);\n",
              "    height: 32px;\n",
              "    padding: 0;\n",
              "    width: 32px;\n",
              "  }\n",
              "\n",
              "  .colab-df-quickchart:hover {\n",
              "    background-color: var(--hover-bg-color);\n",
              "    box-shadow: 0 1px 2px rgba(60, 64, 67, 0.3), 0 1px 3px 1px rgba(60, 64, 67, 0.15);\n",
              "    fill: var(--button-hover-fill-color);\n",
              "  }\n",
              "\n",
              "  .colab-df-quickchart-complete:disabled,\n",
              "  .colab-df-quickchart-complete:disabled:hover {\n",
              "    background-color: var(--disabled-bg-color);\n",
              "    fill: var(--disabled-fill-color);\n",
              "    box-shadow: none;\n",
              "  }\n",
              "\n",
              "  .colab-df-spinner {\n",
              "    border: 2px solid var(--fill-color);\n",
              "    border-color: transparent;\n",
              "    border-bottom-color: var(--fill-color);\n",
              "    animation:\n",
              "      spin 1s steps(1) infinite;\n",
              "  }\n",
              "\n",
              "  @keyframes spin {\n",
              "    0% {\n",
              "      border-color: transparent;\n",
              "      border-bottom-color: var(--fill-color);\n",
              "      border-left-color: var(--fill-color);\n",
              "    }\n",
              "    20% {\n",
              "      border-color: transparent;\n",
              "      border-left-color: var(--fill-color);\n",
              "      border-top-color: var(--fill-color);\n",
              "    }\n",
              "    30% {\n",
              "      border-color: transparent;\n",
              "      border-left-color: var(--fill-color);\n",
              "      border-top-color: var(--fill-color);\n",
              "      border-right-color: var(--fill-color);\n",
              "    }\n",
              "    40% {\n",
              "      border-color: transparent;\n",
              "      border-right-color: var(--fill-color);\n",
              "      border-top-color: var(--fill-color);\n",
              "    }\n",
              "    60% {\n",
              "      border-color: transparent;\n",
              "      border-right-color: var(--fill-color);\n",
              "    }\n",
              "    80% {\n",
              "      border-color: transparent;\n",
              "      border-right-color: var(--fill-color);\n",
              "      border-bottom-color: var(--fill-color);\n",
              "    }\n",
              "    90% {\n",
              "      border-color: transparent;\n",
              "      border-bottom-color: var(--fill-color);\n",
              "    }\n",
              "  }\n",
              "</style>\n",
              "\n",
              "  <script>\n",
              "    async function quickchart(key) {\n",
              "      const quickchartButtonEl =\n",
              "        document.querySelector('#' + key + ' button');\n",
              "      quickchartButtonEl.disabled = true;  // To prevent multiple clicks.\n",
              "      quickchartButtonEl.classList.add('colab-df-spinner');\n",
              "      try {\n",
              "        const charts = await google.colab.kernel.invokeFunction(\n",
              "            'suggestCharts', [key], {});\n",
              "      } catch (error) {\n",
              "        console.error('Error during call to suggestCharts:', error);\n",
              "      }\n",
              "      quickchartButtonEl.classList.remove('colab-df-spinner');\n",
              "      quickchartButtonEl.classList.add('colab-df-quickchart-complete');\n",
              "    }\n",
              "    (() => {\n",
              "      let quickchartButtonEl =\n",
              "        document.querySelector('#df-7dc5ba23-97cb-4003-be57-a532d01221fb button');\n",
              "      quickchartButtonEl.style.display =\n",
              "        google.colab.kernel.accessAllowed ? 'block' : 'none';\n",
              "    })();\n",
              "  </script>\n",
              "</div>\n",
              "    </div>\n",
              "  </div>\n"
            ]
          },
          "metadata": {},
          "execution_count": 2
        }
      ],
      "source": [
        "import pandas as pd\n",
        "\n",
        "test_df = pd.read_csv('https://raw.githubusercontent.com/aws-samples/aws-machine-learning-university-accelerated-nlp/master/data/final_project/imdb_test.csv', header=0)\n",
        "test_df.head()"
      ]
    },
    {
      "cell_type": "markdown",
      "metadata": {
        "id": "_n7O1xvmPcHp"
      },
      "source": [
        "## 2. Train a KNN Classifier\n",
        "Here, you will apply pre-processing operations we covered in the class. Then, you can split your dataset to training and validation here. For your first submission, you will use __K Nearest Neighbors Classifier__. It is available [here](https://scikit-learn.org/stable/modules/generated/sklearn.neighbors.KNeighborsClassifier.html)."
      ]
    },
    {
      "cell_type": "code",
      "source": [
        "train_df[\"label\"].value_counts()"
      ],
      "metadata": {
        "id": "IBZFchqTXvfj",
        "outputId": "76b0d3ea-c085-4d36-9a78-5d9a6d215a7d",
        "colab": {
          "base_uri": "https://localhost:8080/"
        }
      },
      "execution_count": null,
      "outputs": [
        {
          "output_type": "execute_result",
          "data": {
            "text/plain": [
              "0    12500\n",
              "1    12500\n",
              "Name: label, dtype: int64"
            ]
          },
          "metadata": {},
          "execution_count": 3
        }
      ]
    },
    {
      "cell_type": "code",
      "execution_count": null,
      "metadata": {
        "id": "5f90bOZGPcHp",
        "outputId": "3d3b3f75-a8e6-4377-d783-c838fae17f4d",
        "colab": {
          "base_uri": "https://localhost:8080/"
        }
      },
      "outputs": [
        {
          "output_type": "stream",
          "name": "stdout",
          "text": [
            "<class 'pandas.core.frame.DataFrame'>\n",
            "RangeIndex: 25000 entries, 0 to 24999\n",
            "Data columns (total 2 columns):\n",
            " #   Column  Non-Null Count  Dtype \n",
            "---  ------  --------------  ----- \n",
            " 0   text    25000 non-null  object\n",
            " 1   label   25000 non-null  int64 \n",
            "dtypes: int64(1), object(1)\n",
            "memory usage: 390.8+ KB\n"
          ]
        }
      ],
      "source": [
        "# Implement this\n",
        "train_df.info()"
      ]
    },
    {
      "cell_type": "code",
      "source": [
        "print(train_df.isna().sum())"
      ],
      "metadata": {
        "id": "VAT-6cf8Vsgr",
        "outputId": "d6c02973-fc73-49a6-a452-cfa99cedd257",
        "colab": {
          "base_uri": "https://localhost:8080/"
        }
      },
      "execution_count": null,
      "outputs": [
        {
          "output_type": "stream",
          "name": "stdout",
          "text": [
            "text     0\n",
            "label    0\n",
            "dtype: int64\n"
          ]
        }
      ]
    },
    {
      "cell_type": "code",
      "source": [
        "# Install the library and functions\n",
        "import nltk\n",
        "\n",
        "nltk.download('punkt')\n",
        "nltk.download('stopwords')"
      ],
      "metadata": {
        "id": "pald5lE4WK1k",
        "outputId": "1d7cee32-7513-4c40-c85f-8673ff1dc607",
        "colab": {
          "base_uri": "https://localhost:8080/"
        }
      },
      "execution_count": null,
      "outputs": [
        {
          "output_type": "stream",
          "name": "stderr",
          "text": [
            "[nltk_data] Downloading package punkt to /root/nltk_data...\n",
            "[nltk_data]   Unzipping tokenizers/punkt.zip.\n",
            "[nltk_data] Downloading package stopwords to /root/nltk_data...\n",
            "[nltk_data]   Unzipping corpora/stopwords.zip.\n"
          ]
        },
        {
          "output_type": "execute_result",
          "data": {
            "text/plain": [
              "True"
            ]
          },
          "metadata": {},
          "execution_count": 6
        }
      ]
    },
    {
      "cell_type": "code",
      "source": [
        "import nltk, re\n",
        "from nltk.corpus import stopwords\n",
        "from nltk.stem import SnowballStemmer\n",
        "from nltk.tokenize import word_tokenize\n",
        "\n",
        "# Let's get a list of stop words from the NLTK library\n",
        "stop = stopwords.words('english')\n",
        "\n",
        "# These words are important for our problem. We don't want to remove them.\n",
        "excluding = ['against', 'not', 'don', \"don't\",'ain', 'aren', \"aren't\", 'couldn', \"couldn't\",\n",
        "             'didn', \"didn't\", 'doesn', \"doesn't\", 'hadn', \"hadn't\", 'hasn', \"hasn't\",\n",
        "             'haven', \"haven't\", 'isn', \"isn't\", 'mightn', \"mightn't\", 'mustn', \"mustn't\",\n",
        "             'needn', \"needn't\",'shouldn', \"shouldn't\", 'wasn', \"wasn't\", 'weren',\n",
        "             \"weren't\", 'won', \"won't\", 'wouldn', \"wouldn't\"]\n",
        "\n",
        "# New stop word list\n",
        "stop_words = [word for word in stop if word not in excluding]\n",
        "\n",
        "snow = SnowballStemmer('english')\n",
        "\n",
        "def process_text(texts):\n",
        "    final_text_list=[]\n",
        "    for sent in texts:\n",
        "\n",
        "        # Check if the sentence is a missing value\n",
        "        if isinstance(sent, str) == False:\n",
        "            sent = \"\"\n",
        "\n",
        "        filtered_sentence=[]\n",
        "\n",
        "        sent = sent.lower() # Lowercase\n",
        "        sent = sent.strip() # Remove leading/trailing whitespace\n",
        "        sent = re.sub('\\s+', ' ', sent) # Remove extra space and tabs\n",
        "        sent = re.compile('<.*?>').sub('', sent) # Remove HTML tags/markups:\n",
        "\n",
        "        for w in word_tokenize(sent):\n",
        "            # We are applying some custom filtering here, feel free to try different things\n",
        "            # Check if it is not numeric and its length>2 and not in stop words\n",
        "            if(not w.isnumeric()) and (len(w)>2) and (w not in stop_words):\n",
        "                # Stem and add to filtered list\n",
        "                filtered_sentence.append(snow.stem(w))\n",
        "        final_string = \" \".join(filtered_sentence) #final string of cleaned words\n",
        "\n",
        "        final_text_list.append(final_string)\n",
        "\n",
        "    return final_text_list"
      ],
      "metadata": {
        "id": "il5C2dJMXMQa"
      },
      "execution_count": null,
      "outputs": []
    },
    {
      "cell_type": "code",
      "source": [
        "print(\"Processing the text field\")\n",
        "train_text_list = process_text(train_df[\"text\"].tolist())\n",
        "test_text_list = process_text(test_df[\"text\"].tolist())\n",
        "\n",
        "y_train = train_df[\"label\"].tolist()\n",
        "y_test = test_df[\"label\"].tolist()"
      ],
      "metadata": {
        "id": "oeW3BfUMX4LV",
        "outputId": "af71627a-a9de-4018-b9c3-eb9092753882",
        "colab": {
          "base_uri": "https://localhost:8080/"
        }
      },
      "execution_count": null,
      "outputs": [
        {
          "output_type": "stream",
          "name": "stdout",
          "text": [
            "Processing the text field\n"
          ]
        }
      ]
    },
    {
      "cell_type": "code",
      "source": [
        "from sklearn.pipeline import Pipeline\n",
        "from sklearn.feature_extraction.text import CountVectorizer\n",
        "from sklearn.feature_extraction.text import TfidfVectorizer\n",
        "from sklearn.neighbors import KNeighborsClassifier\n",
        "\n",
        "\n",
        "import gensim\n",
        "from gensim.models import Word2Vec\n",
        "### PIPELINE ###\n",
        "##########################\n",
        "#w2v = gensim.models.Word2Vec()\n",
        "pipeline = Pipeline([\n",
        "    #('text_vect', CountVectorizer(binary=True,\n",
        "    ( 'text_vect', TfidfVectorizer(use_idf=True,\n",
        "                                  max_features=300)),\n",
        "    ('knn', KNeighborsClassifier())\n",
        "                                ])\n",
        "\n",
        "\n",
        "# Visualize the pipeline\n",
        "# This will come in handy especially when building more complex pipelines, stringing together multiple preprocessing steps\n",
        "from sklearn import set_config\n",
        "set_config(display='diagram')\n",
        "pipeline"
      ],
      "metadata": {
        "id": "8bmGHZ3OYX4x",
        "outputId": "71265e6c-d8d8-48a7-ebcd-670f769410fc",
        "colab": {
          "base_uri": "https://localhost:8080/",
          "height": 151
        }
      },
      "execution_count": null,
      "outputs": [
        {
          "output_type": "execute_result",
          "data": {
            "text/plain": [
              "Pipeline(steps=[('text_vect', TfidfVectorizer(max_features=300)),\n",
              "                ('knn', KNeighborsClassifier())])"
            ],
            "text/html": [
              "<style>#sk-container-id-30 {color: black;background-color: white;}#sk-container-id-30 pre{padding: 0;}#sk-container-id-30 div.sk-toggleable {background-color: white;}#sk-container-id-30 label.sk-toggleable__label {cursor: pointer;display: block;width: 100%;margin-bottom: 0;padding: 0.3em;box-sizing: border-box;text-align: center;}#sk-container-id-30 label.sk-toggleable__label-arrow:before {content: \"▸\";float: left;margin-right: 0.25em;color: #696969;}#sk-container-id-30 label.sk-toggleable__label-arrow:hover:before {color: black;}#sk-container-id-30 div.sk-estimator:hover label.sk-toggleable__label-arrow:before {color: black;}#sk-container-id-30 div.sk-toggleable__content {max-height: 0;max-width: 0;overflow: hidden;text-align: left;background-color: #f0f8ff;}#sk-container-id-30 div.sk-toggleable__content pre {margin: 0.2em;color: black;border-radius: 0.25em;background-color: #f0f8ff;}#sk-container-id-30 input.sk-toggleable__control:checked~div.sk-toggleable__content {max-height: 200px;max-width: 100%;overflow: auto;}#sk-container-id-30 input.sk-toggleable__control:checked~label.sk-toggleable__label-arrow:before {content: \"▾\";}#sk-container-id-30 div.sk-estimator input.sk-toggleable__control:checked~label.sk-toggleable__label {background-color: #d4ebff;}#sk-container-id-30 div.sk-label input.sk-toggleable__control:checked~label.sk-toggleable__label {background-color: #d4ebff;}#sk-container-id-30 input.sk-hidden--visually {border: 0;clip: rect(1px 1px 1px 1px);clip: rect(1px, 1px, 1px, 1px);height: 1px;margin: -1px;overflow: hidden;padding: 0;position: absolute;width: 1px;}#sk-container-id-30 div.sk-estimator {font-family: monospace;background-color: #f0f8ff;border: 1px dotted black;border-radius: 0.25em;box-sizing: border-box;margin-bottom: 0.5em;}#sk-container-id-30 div.sk-estimator:hover {background-color: #d4ebff;}#sk-container-id-30 div.sk-parallel-item::after {content: \"\";width: 100%;border-bottom: 1px solid gray;flex-grow: 1;}#sk-container-id-30 div.sk-label:hover label.sk-toggleable__label {background-color: #d4ebff;}#sk-container-id-30 div.sk-serial::before {content: \"\";position: absolute;border-left: 1px solid gray;box-sizing: border-box;top: 0;bottom: 0;left: 50%;z-index: 0;}#sk-container-id-30 div.sk-serial {display: flex;flex-direction: column;align-items: center;background-color: white;padding-right: 0.2em;padding-left: 0.2em;position: relative;}#sk-container-id-30 div.sk-item {position: relative;z-index: 1;}#sk-container-id-30 div.sk-parallel {display: flex;align-items: stretch;justify-content: center;background-color: white;position: relative;}#sk-container-id-30 div.sk-item::before, #sk-container-id-30 div.sk-parallel-item::before {content: \"\";position: absolute;border-left: 1px solid gray;box-sizing: border-box;top: 0;bottom: 0;left: 50%;z-index: -1;}#sk-container-id-30 div.sk-parallel-item {display: flex;flex-direction: column;z-index: 1;position: relative;background-color: white;}#sk-container-id-30 div.sk-parallel-item:first-child::after {align-self: flex-end;width: 50%;}#sk-container-id-30 div.sk-parallel-item:last-child::after {align-self: flex-start;width: 50%;}#sk-container-id-30 div.sk-parallel-item:only-child::after {width: 0;}#sk-container-id-30 div.sk-dashed-wrapped {border: 1px dashed gray;margin: 0 0.4em 0.5em 0.4em;box-sizing: border-box;padding-bottom: 0.4em;background-color: white;}#sk-container-id-30 div.sk-label label {font-family: monospace;font-weight: bold;display: inline-block;line-height: 1.2em;}#sk-container-id-30 div.sk-label-container {text-align: center;}#sk-container-id-30 div.sk-container {/* jupyter's `normalize.less` sets `[hidden] { display: none; }` but bootstrap.min.css set `[hidden] { display: none !important; }` so we also need the `!important` here to be able to override the default hidden behavior on the sphinx rendered scikit-learn.org. See: https://github.com/scikit-learn/scikit-learn/issues/21755 */display: inline-block !important;position: relative;}#sk-container-id-30 div.sk-text-repr-fallback {display: none;}</style><div id=\"sk-container-id-30\" class=\"sk-top-container\"><div class=\"sk-text-repr-fallback\"><pre>Pipeline(steps=[(&#x27;text_vect&#x27;, TfidfVectorizer(max_features=300)),\n",
              "                (&#x27;knn&#x27;, KNeighborsClassifier())])</pre><b>In a Jupyter environment, please rerun this cell to show the HTML representation or trust the notebook. <br />On GitHub, the HTML representation is unable to render, please try loading this page with nbviewer.org.</b></div><div class=\"sk-container\" hidden><div class=\"sk-item sk-dashed-wrapped\"><div class=\"sk-label-container\"><div class=\"sk-label sk-toggleable\"><input class=\"sk-toggleable__control sk-hidden--visually\" id=\"sk-estimator-id-88\" type=\"checkbox\" ><label for=\"sk-estimator-id-88\" class=\"sk-toggleable__label sk-toggleable__label-arrow\">Pipeline</label><div class=\"sk-toggleable__content\"><pre>Pipeline(steps=[(&#x27;text_vect&#x27;, TfidfVectorizer(max_features=300)),\n",
              "                (&#x27;knn&#x27;, KNeighborsClassifier())])</pre></div></div></div><div class=\"sk-serial\"><div class=\"sk-item\"><div class=\"sk-estimator sk-toggleable\"><input class=\"sk-toggleable__control sk-hidden--visually\" id=\"sk-estimator-id-89\" type=\"checkbox\" ><label for=\"sk-estimator-id-89\" class=\"sk-toggleable__label sk-toggleable__label-arrow\">TfidfVectorizer</label><div class=\"sk-toggleable__content\"><pre>TfidfVectorizer(max_features=300)</pre></div></div></div><div class=\"sk-item\"><div class=\"sk-estimator sk-toggleable\"><input class=\"sk-toggleable__control sk-hidden--visually\" id=\"sk-estimator-id-90\" type=\"checkbox\" ><label for=\"sk-estimator-id-90\" class=\"sk-toggleable__label sk-toggleable__label-arrow\">KNeighborsClassifier</label><div class=\"sk-toggleable__content\"><pre>KNeighborsClassifier()</pre></div></div></div></div></div></div></div>"
            ]
          },
          "metadata": {},
          "execution_count": 52
        }
      ]
    },
    {
      "cell_type": "markdown",
      "metadata": {
        "id": "rieXB-QtPcHq"
      },
      "source": [
        "## 3. Make predictions on your test dataset\n",
        "\n",
        "Once we select our best performing model, we can use it to make predictions on the test dataset. You can simply use __.fit()__ function with your training data to use the best performing K value and use __.predict()__ with your test data to get your test predictions."
      ]
    },
    {
      "cell_type": "code",
      "source": [
        "# We using lists of processed text fields\n",
        "X_train = train_text_list\n",
        "X_test = test_text_list\n",
        "\n",
        "# Fit the Pipeline to training data\n",
        "pipeline.fit(X_train, y_train)"
      ],
      "metadata": {
        "id": "_Sq2U671Yox5",
        "outputId": "0a8d876d-b5c7-47b8-dfd8-a1ee7aeaa624",
        "colab": {
          "base_uri": "https://localhost:8080/",
          "height": 128
        }
      },
      "execution_count": null,
      "outputs": [
        {
          "output_type": "execute_result",
          "data": {
            "text/plain": [
              "Pipeline(steps=[('text_vect', TfidfVectorizer(max_features=300)),\n",
              "                ('knn', KNeighborsClassifier())])"
            ],
            "text/html": [
              "<style>#sk-container-id-31 {color: black;background-color: white;}#sk-container-id-31 pre{padding: 0;}#sk-container-id-31 div.sk-toggleable {background-color: white;}#sk-container-id-31 label.sk-toggleable__label {cursor: pointer;display: block;width: 100%;margin-bottom: 0;padding: 0.3em;box-sizing: border-box;text-align: center;}#sk-container-id-31 label.sk-toggleable__label-arrow:before {content: \"▸\";float: left;margin-right: 0.25em;color: #696969;}#sk-container-id-31 label.sk-toggleable__label-arrow:hover:before {color: black;}#sk-container-id-31 div.sk-estimator:hover label.sk-toggleable__label-arrow:before {color: black;}#sk-container-id-31 div.sk-toggleable__content {max-height: 0;max-width: 0;overflow: hidden;text-align: left;background-color: #f0f8ff;}#sk-container-id-31 div.sk-toggleable__content pre {margin: 0.2em;color: black;border-radius: 0.25em;background-color: #f0f8ff;}#sk-container-id-31 input.sk-toggleable__control:checked~div.sk-toggleable__content {max-height: 200px;max-width: 100%;overflow: auto;}#sk-container-id-31 input.sk-toggleable__control:checked~label.sk-toggleable__label-arrow:before {content: \"▾\";}#sk-container-id-31 div.sk-estimator input.sk-toggleable__control:checked~label.sk-toggleable__label {background-color: #d4ebff;}#sk-container-id-31 div.sk-label input.sk-toggleable__control:checked~label.sk-toggleable__label {background-color: #d4ebff;}#sk-container-id-31 input.sk-hidden--visually {border: 0;clip: rect(1px 1px 1px 1px);clip: rect(1px, 1px, 1px, 1px);height: 1px;margin: -1px;overflow: hidden;padding: 0;position: absolute;width: 1px;}#sk-container-id-31 div.sk-estimator {font-family: monospace;background-color: #f0f8ff;border: 1px dotted black;border-radius: 0.25em;box-sizing: border-box;margin-bottom: 0.5em;}#sk-container-id-31 div.sk-estimator:hover {background-color: #d4ebff;}#sk-container-id-31 div.sk-parallel-item::after {content: \"\";width: 100%;border-bottom: 1px solid gray;flex-grow: 1;}#sk-container-id-31 div.sk-label:hover label.sk-toggleable__label {background-color: #d4ebff;}#sk-container-id-31 div.sk-serial::before {content: \"\";position: absolute;border-left: 1px solid gray;box-sizing: border-box;top: 0;bottom: 0;left: 50%;z-index: 0;}#sk-container-id-31 div.sk-serial {display: flex;flex-direction: column;align-items: center;background-color: white;padding-right: 0.2em;padding-left: 0.2em;position: relative;}#sk-container-id-31 div.sk-item {position: relative;z-index: 1;}#sk-container-id-31 div.sk-parallel {display: flex;align-items: stretch;justify-content: center;background-color: white;position: relative;}#sk-container-id-31 div.sk-item::before, #sk-container-id-31 div.sk-parallel-item::before {content: \"\";position: absolute;border-left: 1px solid gray;box-sizing: border-box;top: 0;bottom: 0;left: 50%;z-index: -1;}#sk-container-id-31 div.sk-parallel-item {display: flex;flex-direction: column;z-index: 1;position: relative;background-color: white;}#sk-container-id-31 div.sk-parallel-item:first-child::after {align-self: flex-end;width: 50%;}#sk-container-id-31 div.sk-parallel-item:last-child::after {align-self: flex-start;width: 50%;}#sk-container-id-31 div.sk-parallel-item:only-child::after {width: 0;}#sk-container-id-31 div.sk-dashed-wrapped {border: 1px dashed gray;margin: 0 0.4em 0.5em 0.4em;box-sizing: border-box;padding-bottom: 0.4em;background-color: white;}#sk-container-id-31 div.sk-label label {font-family: monospace;font-weight: bold;display: inline-block;line-height: 1.2em;}#sk-container-id-31 div.sk-label-container {text-align: center;}#sk-container-id-31 div.sk-container {/* jupyter's `normalize.less` sets `[hidden] { display: none; }` but bootstrap.min.css set `[hidden] { display: none !important; }` so we also need the `!important` here to be able to override the default hidden behavior on the sphinx rendered scikit-learn.org. See: https://github.com/scikit-learn/scikit-learn/issues/21755 */display: inline-block !important;position: relative;}#sk-container-id-31 div.sk-text-repr-fallback {display: none;}</style><div id=\"sk-container-id-31\" class=\"sk-top-container\"><div class=\"sk-text-repr-fallback\"><pre>Pipeline(steps=[(&#x27;text_vect&#x27;, TfidfVectorizer(max_features=300)),\n",
              "                (&#x27;knn&#x27;, KNeighborsClassifier())])</pre><b>In a Jupyter environment, please rerun this cell to show the HTML representation or trust the notebook. <br />On GitHub, the HTML representation is unable to render, please try loading this page with nbviewer.org.</b></div><div class=\"sk-container\" hidden><div class=\"sk-item sk-dashed-wrapped\"><div class=\"sk-label-container\"><div class=\"sk-label sk-toggleable\"><input class=\"sk-toggleable__control sk-hidden--visually\" id=\"sk-estimator-id-91\" type=\"checkbox\" ><label for=\"sk-estimator-id-91\" class=\"sk-toggleable__label sk-toggleable__label-arrow\">Pipeline</label><div class=\"sk-toggleable__content\"><pre>Pipeline(steps=[(&#x27;text_vect&#x27;, TfidfVectorizer(max_features=300)),\n",
              "                (&#x27;knn&#x27;, KNeighborsClassifier())])</pre></div></div></div><div class=\"sk-serial\"><div class=\"sk-item\"><div class=\"sk-estimator sk-toggleable\"><input class=\"sk-toggleable__control sk-hidden--visually\" id=\"sk-estimator-id-92\" type=\"checkbox\" ><label for=\"sk-estimator-id-92\" class=\"sk-toggleable__label sk-toggleable__label-arrow\">TfidfVectorizer</label><div class=\"sk-toggleable__content\"><pre>TfidfVectorizer(max_features=300)</pre></div></div></div><div class=\"sk-item\"><div class=\"sk-estimator sk-toggleable\"><input class=\"sk-toggleable__control sk-hidden--visually\" id=\"sk-estimator-id-93\" type=\"checkbox\" ><label for=\"sk-estimator-id-93\" class=\"sk-toggleable__label sk-toggleable__label-arrow\">KNeighborsClassifier</label><div class=\"sk-toggleable__content\"><pre>KNeighborsClassifier()</pre></div></div></div></div></div></div></div>"
            ]
          },
          "metadata": {},
          "execution_count": 53
        }
      ]
    },
    {
      "cell_type": "code",
      "execution_count": null,
      "metadata": {
        "id": "BssNQEfAPcHq"
      },
      "outputs": [],
      "source": [
        "# Implement this\n",
        "from sklearn.metrics import confusion_matrix, classification_report, accuracy_score\n",
        "\n",
        "# Use the fitted pipeline to make predictions on the validation dataset\n",
        "val_predictions = pipeline.predict(X_test)\n",
        "print(confusion_matrix(y_test, val_predictions))\n",
        "print(classification_report(y_test, val_predictions))\n",
        "print(\"Accuracy (validation):\", accuracy_score(y_test, val_predictions))"
      ]
    },
    {
      "cell_type": "markdown",
      "source": [
        "# Used markdown to create table"
      ],
      "metadata": {
        "id": "RRar_W1VmSUS"
      }
    },
    {
      "cell_type": "markdown",
      "source": [
        "![image.png](data:image/png;base64,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)"
      ],
      "metadata": {
        "id": "uMfvYwnBdTgP"
      }
    }
  ],
  "metadata": {
    "kernelspec": {
      "display_name": "conda_python3",
      "language": "python",
      "name": "conda_python3"
    },
    "language_info": {
      "codemirror_mode": {
        "name": "ipython",
        "version": 3
      },
      "file_extension": ".py",
      "mimetype": "text/x-python",
      "name": "python",
      "nbconvert_exporter": "python",
      "pygments_lexer": "ipython3",
      "version": "3.6.13"
    },
    "colab": {
      "provenance": [],
      "include_colab_link": true
    }
  },
  "nbformat": 4,
  "nbformat_minor": 0
}